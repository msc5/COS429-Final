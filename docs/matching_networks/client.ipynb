{
 "cells": [
  {
   "cell_type": "markdown",
   "metadata": {},
   "source": [
    "## Links\n",
    "- [Implementation of Matching Nets and Prototypical Networks](https://github.com/oscarknagg/few-shot/tree/672de83a853cc2d5e9fe304dc100b4a735c10c15)\n",
    "- [Explanation of Matching Nets, Prototypical Networks, and MAML](https://towardsdatascience.com/advances-in-few-shot-learning-a-guided-tour-36bc10a68b77)"
   ]
  }
 ],
 "metadata": {
  "interpreter": {
   "hash": "c4853ae2d3524f344d9460ca4428ab3ecc7df6a6de34f9290d7b4bf6b49fd90b"
  },
  "kernelspec": {
   "display_name": "Python 3.8.11 64-bit ('cos429': conda)",
   "language": "python",
   "name": "python3"
  },
  "language_info": {
   "name": "python",
   "version": "3.8.11"
  },
  "orig_nbformat": 4
 },
 "nbformat": 4,
 "nbformat_minor": 2
}
