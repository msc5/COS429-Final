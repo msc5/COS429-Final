{
 "cells": [
  {
   "cell_type": "code",
   "execution_count": 7,
   "metadata": {},
   "outputs": [],
   "source": [
    "import torch\n",
    "import torch.nn as nn\n",
    "\n",
    "from torchsummary import summary\n",
    "\n",
    "import numpy as np"
   ]
  },
  {
   "cell_type": "markdown",
   "metadata": {},
   "source": [
    "- [Resnet 1st Implementation](https://towardsdatascience.com/residual-network-implementing-resnet-a7da63c7b278)\n",
    "- [Resnet 2nd Implementation](https://github.com/kuangliu/pytorch-cifar/blob/master/models/resnet.py)"
   ]
  },
  {
   "cell_type": "code",
   "execution_count": 5,
   "metadata": {},
   "outputs": [],
   "source": [
    "from resnet import ResNetBasicBlock, ResNetBottleNeckBlock, ResNet"
   ]
  },
  {
   "cell_type": "code",
   "execution_count": 6,
   "metadata": {},
   "outputs": [],
   "source": [
    "def resnet18(in_channels, n_classes, block=ResNetBasicBlock, *args, **kwargs):\n",
    "    return ResNet(in_channels, n_classes, block=block, deepths=[2, 2, 2, 2], *args, **kwargs)\n",
    "\n",
    "\n",
    "def resnet34(in_channels, n_classes, block=ResNetBasicBlock, *args, **kwargs):\n",
    "    return ResNet(in_channels, n_classes, block=block, deepths=[3, 4, 6, 3], *args, **kwargs)\n",
    "\n",
    "\n",
    "def resnet50(in_channels, n_classes, block=ResNetBottleNeckBlock, *args, **kwargs):\n",
    "    return ResNet(in_channels, n_classes, block=block, deepths=[3, 4, 6, 3], *args, **kwargs)\n",
    "\n",
    "\n",
    "def resnet101(in_channels, n_classes, block=ResNetBottleNeckBlock, *args, **kwargs):\n",
    "    return ResNet(in_channels, n_classes, block=block, deepths=[3, 4, 23, 3], *args, **kwargs)\n",
    "\n",
    "\n",
    "def resnet152(in_channels, n_classes, block=ResNetBottleNeckBlock, *args, **kwargs):\n",
    "    return ResNet(in_channels, n_classes, block=block, deepths=[3, 8, 36, 3], *args, **kwargs)"
   ]
  },
  {
   "cell_type": "code",
   "execution_count": 9,
   "metadata": {},
   "outputs": [
    {
     "name": "stdout",
     "output_type": "stream",
     "text": [
      "----------------------------------------------------------------\n",
      "        Layer (type)               Output Shape         Param #\n",
      "================================================================\n",
      "            Conv2d-1           [-1, 64, 16, 16]           9,408\n",
      "       BatchNorm2d-2           [-1, 64, 16, 16]             128\n",
      "              ReLU-3           [-1, 64, 16, 16]               0\n",
      "         MaxPool2d-4             [-1, 64, 8, 8]               0\n",
      "        Conv2dAuto-5             [-1, 64, 8, 8]          36,864\n",
      "       BatchNorm2d-6             [-1, 64, 8, 8]             128\n",
      "              ReLU-7             [-1, 64, 8, 8]               0\n",
      "        Conv2dAuto-8             [-1, 64, 8, 8]          36,864\n",
      "       BatchNorm2d-9             [-1, 64, 8, 8]             128\n",
      "             ReLU-10             [-1, 64, 8, 8]               0\n",
      " ResNetBasicBlock-11             [-1, 64, 8, 8]               0\n",
      "       Conv2dAuto-12             [-1, 64, 8, 8]          36,864\n",
      "      BatchNorm2d-13             [-1, 64, 8, 8]             128\n",
      "             ReLU-14             [-1, 64, 8, 8]               0\n",
      "       Conv2dAuto-15             [-1, 64, 8, 8]          36,864\n",
      "      BatchNorm2d-16             [-1, 64, 8, 8]             128\n",
      "             ReLU-17             [-1, 64, 8, 8]               0\n",
      " ResNetBasicBlock-18             [-1, 64, 8, 8]               0\n",
      "      ResNetLayer-19             [-1, 64, 8, 8]               0\n",
      "           Conv2d-20            [-1, 128, 4, 4]           8,192\n",
      "      BatchNorm2d-21            [-1, 128, 4, 4]             256\n",
      "       Conv2dAuto-22            [-1, 128, 4, 4]          73,728\n",
      "      BatchNorm2d-23            [-1, 128, 4, 4]             256\n",
      "             ReLU-24            [-1, 128, 4, 4]               0\n",
      "       Conv2dAuto-25            [-1, 128, 4, 4]         147,456\n",
      "      BatchNorm2d-26            [-1, 128, 4, 4]             256\n",
      "             ReLU-27            [-1, 128, 4, 4]               0\n",
      " ResNetBasicBlock-28            [-1, 128, 4, 4]               0\n",
      "       Conv2dAuto-29            [-1, 128, 4, 4]         147,456\n",
      "      BatchNorm2d-30            [-1, 128, 4, 4]             256\n",
      "             ReLU-31            [-1, 128, 4, 4]               0\n",
      "       Conv2dAuto-32            [-1, 128, 4, 4]         147,456\n",
      "      BatchNorm2d-33            [-1, 128, 4, 4]             256\n",
      "             ReLU-34            [-1, 128, 4, 4]               0\n",
      " ResNetBasicBlock-35            [-1, 128, 4, 4]               0\n",
      "      ResNetLayer-36            [-1, 128, 4, 4]               0\n",
      "           Conv2d-37            [-1, 256, 2, 2]          32,768\n",
      "      BatchNorm2d-38            [-1, 256, 2, 2]             512\n",
      "       Conv2dAuto-39            [-1, 256, 2, 2]         294,912\n",
      "      BatchNorm2d-40            [-1, 256, 2, 2]             512\n",
      "             ReLU-41            [-1, 256, 2, 2]               0\n",
      "       Conv2dAuto-42            [-1, 256, 2, 2]         589,824\n",
      "      BatchNorm2d-43            [-1, 256, 2, 2]             512\n",
      "             ReLU-44            [-1, 256, 2, 2]               0\n",
      " ResNetBasicBlock-45            [-1, 256, 2, 2]               0\n",
      "       Conv2dAuto-46            [-1, 256, 2, 2]         589,824\n",
      "      BatchNorm2d-47            [-1, 256, 2, 2]             512\n",
      "             ReLU-48            [-1, 256, 2, 2]               0\n",
      "       Conv2dAuto-49            [-1, 256, 2, 2]         589,824\n",
      "      BatchNorm2d-50            [-1, 256, 2, 2]             512\n",
      "             ReLU-51            [-1, 256, 2, 2]               0\n",
      " ResNetBasicBlock-52            [-1, 256, 2, 2]               0\n",
      "      ResNetLayer-53            [-1, 256, 2, 2]               0\n",
      "           Conv2d-54            [-1, 512, 1, 1]         131,072\n",
      "      BatchNorm2d-55            [-1, 512, 1, 1]           1,024\n",
      "       Conv2dAuto-56            [-1, 512, 1, 1]       1,179,648\n",
      "      BatchNorm2d-57            [-1, 512, 1, 1]           1,024\n",
      "             ReLU-58            [-1, 512, 1, 1]               0\n",
      "       Conv2dAuto-59            [-1, 512, 1, 1]       2,359,296\n",
      "      BatchNorm2d-60            [-1, 512, 1, 1]           1,024\n",
      "             ReLU-61            [-1, 512, 1, 1]               0\n",
      " ResNetBasicBlock-62            [-1, 512, 1, 1]               0\n",
      "       Conv2dAuto-63            [-1, 512, 1, 1]       2,359,296\n",
      "      BatchNorm2d-64            [-1, 512, 1, 1]           1,024\n",
      "             ReLU-65            [-1, 512, 1, 1]               0\n",
      "       Conv2dAuto-66            [-1, 512, 1, 1]       2,359,296\n",
      "      BatchNorm2d-67            [-1, 512, 1, 1]           1,024\n",
      "             ReLU-68            [-1, 512, 1, 1]               0\n",
      " ResNetBasicBlock-69            [-1, 512, 1, 1]               0\n",
      "      ResNetLayer-70            [-1, 512, 1, 1]               0\n",
      "    ResNetEncoder-71            [-1, 512, 1, 1]               0\n",
      "AdaptiveAvgPool2d-72            [-1, 512, 1, 1]               0\n",
      "           Linear-73                   [-1, 10]           5,130\n",
      "    ResnetDecoder-74                   [-1, 10]               0\n",
      "================================================================\n",
      "Total params: 11,181,642\n",
      "Trainable params: 11,181,642\n",
      "Non-trainable params: 0\n",
      "----------------------------------------------------------------\n",
      "Input size (MB): 0.01\n",
      "Forward/backward pass size (MB): 1.35\n",
      "Params size (MB): 42.65\n",
      "Estimated Total Size (MB): 44.01\n",
      "----------------------------------------------------------------\n"
     ]
    }
   ],
   "source": [
    "model = resnet18(3, 10)\n",
    "\n",
    "# Example input is shape of CIFAR-10\n",
    "summary(model, (3, 32, 32))\n",
    "\n",
    "# 11,181,642 Params!"
   ]
  },
  {
   "cell_type": "code",
   "execution_count": 9,
   "metadata": {},
   "outputs": [],
   "source": [
    "from torch.utils.data import dataloader\n",
    "from torchvision import datasets, transforms"
   ]
  }
 ],
 "metadata": {
  "interpreter": {
   "hash": "c4853ae2d3524f344d9460ca4428ab3ecc7df6a6de34f9290d7b4bf6b49fd90b"
  },
  "kernelspec": {
   "display_name": "Python 3.8.11 64-bit ('cos429': conda)",
   "language": "python",
   "name": "python3"
  },
  "language_info": {
   "codemirror_mode": {
    "name": "ipython",
    "version": 3
   },
   "file_extension": ".py",
   "mimetype": "text/x-python",
   "name": "python",
   "nbconvert_exporter": "python",
   "pygments_lexer": "ipython3",
   "version": "3.8.11"
  },
  "orig_nbformat": 4
 },
 "nbformat": 4,
 "nbformat_minor": 2
}
